{
  "nbformat": 4,
  "nbformat_minor": 0,
  "metadata": {
    "colab": {
      "provenance": [],
      "authorship_tag": "ABX9TyOZsEo8dGSgrIekBKsFc4/2"
    },
    "kernelspec": {
      "name": "python3",
      "display_name": "Python 3"
    },
    "language_info": {
      "name": "python"
    }
  },
  "cells": [
    {
      "cell_type": "code",
      "execution_count": null,
      "metadata": {
        "id": "3pCm0u17jSEY"
      },
      "outputs": [],
      "source": [
        "from qiskit import __version__\n",
        "print(__version__)\n",
        "\n",
        "from qiskit import QuantumCircuit, QuantumRegister, ClassicalRegister\n",
        "from qiskit.quantum_info import Operator\n",
        "from qiskit_aer import AerSimulator\n",
        "from qiskit.visualization import plot_histogram\n",
        "\n"
      ]
    },
    {
      "cell_type": "code",
      "source": [
        "circuit = QuantumCircuit(1)\n",
        "circuit.h(0)\n",
        "circuit.s(0)\n",
        "circuit.h(0)\n",
        "circuit.t(0)\n",
        "\n",
        "display(circuit.draw(output=\"mpl\"))\n",
        "\n",
        "X = QuantumRegister(1, \"X\")\n",
        "circuit = QuantumCircuit(X)\n",
        "circuit.h(X)\n",
        "circuit.s(X)\n",
        "circuit.h(X)\n",
        "circuit.t(X)\n",
        "\n",
        "display(circuit.draw(output=\"mpl\"))\n",
        "\n",
        "X = QuantumRegister(1, \"X\")\n",
        "Y = QuantumRegister(1, \"Y\")\n",
        "circuit = QuantumCircuit(Y,X)\n",
        "circuit.h(Y)\n",
        "circuit.cx(Y, X)\n",
        "\n",
        "display(circuit.draw(output=\"mpl\"))\n",
        "display(Operator.from_circuit(circuit).draw(\"latex\"))"
      ],
      "metadata": {
        "id": "ri72vUJajfUf"
      },
      "execution_count": null,
      "outputs": []
    },
    {
      "cell_type": "code",
      "source": [
        "X = QuantumRegister(1, \"X\")\n",
        "Y = QuantumRegister(1, \"Y\")\n",
        "A = ClassicalRegister(1, \"A\")\n",
        "B = ClassicalRegister(1, \"B\")\n",
        "\n",
        "circuit = QuantumCircuit(Y, X, B, A)\n",
        "circuit.h(Y)\n",
        "circuit.cx(Y, X)\n",
        "circuit.measure(Y, B)\n",
        "circuit.measure(X, A)\n",
        "\n",
        "display(circuit.draw(output=\"mpl\"))"
      ],
      "metadata": {
        "id": "DSHKAWIRjwEW"
      },
      "execution_count": null,
      "outputs": []
    },
    {
      "cell_type": "code",
      "source": [
        "result = AerSimulator().run(circuit).result()\n",
        "statistics = result.get_counts()\n",
        "display(plot_histogram(statistics))"
      ],
      "metadata": {
        "id": "RmCI0gfck_E_"
      },
      "execution_count": null,
      "outputs": []
    }
  ]
}